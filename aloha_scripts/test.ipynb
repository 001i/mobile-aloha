{
 "cells": [
  {
   "cell_type": "code",
   "execution_count": 11,
   "metadata": {},
   "outputs": [],
   "source": [
    "import pyrealsense2 as rs\n",
    "from pyquaternion import Quaternion\n",
    "import numpy as np\n",
    "np.set_printoptions(precision=3, suppress=True)"
   ]
  },
  {
   "cell_type": "code",
   "execution_count": 10,
   "metadata": {},
   "outputs": [
    {
     "data": {
      "text/plain": [
       "array([2., 2.])"
      ]
     },
     "execution_count": 10,
     "metadata": {},
     "output_type": "execute_result"
    }
   ],
   "source": [
    "from simple_pid import PID\n",
    "pid = PID(1, 0.1, 0.05, setpoint=np.array([2,2]))\n",
    "action = pid(np.array([0., 0.]))\n",
    "action"
   ]
  },
  {
   "cell_type": "code",
   "execution_count": 2,
   "metadata": {},
   "outputs": [
    {
     "data": {
      "text/plain": [
       "<pyrealsense2.pyrealsense2.pipeline_profile at 0x7f54a448ad70>"
      ]
     },
     "execution_count": 2,
     "metadata": {},
     "output_type": "execute_result"
    }
   ],
   "source": [
    "pipeline = rs.pipeline()\n",
    "cfg = rs.config()\n",
    "# if only pose stream is enabled, fps is higher (202 vs 30)\n",
    "cfg.enable_stream(rs.stream.pose)\n",
    "pipeline.start(cfg)\n"
   ]
  },
  {
   "cell_type": "code",
   "execution_count": 12,
   "metadata": {},
   "outputs": [
    {
     "data": {
      "text/plain": [
       "(x: 0.134693, y: 0.00137481, z: 0.254869,\n",
       " x: 0.709371, y: 0.0209334, z: -0.0128379, w: 0.704407)"
      ]
     },
     "execution_count": 12,
     "metadata": {},
     "output_type": "execute_result"
    }
   ],
   "source": [
    "frames = pipeline.wait_for_frames()\n",
    "pose_frame = frames.get_pose_frame()\n",
    "pose = pose_frame.get_pose_data()\n",
    "pose.translation, pose.rotation"
   ]
  },
  {
   "cell_type": "code",
   "execution_count": 16,
   "metadata": {},
   "outputs": [
    {
     "name": "stdout",
     "output_type": "stream",
     "text": [
      "x: -0.00215576, y: -0.000544707, z: -0.00120916\n",
      "x: -0.00323337, y: 0.00256005, z: -0.000680729\n",
      "x: 0.00210893, y: -0.000703221, z: -0.000989828\n",
      "x: 0.00143163, y: -0.00058663, z: 0.00125113\n",
      "x: 0.0031677, y: 0.289937, z: -0.00663748\n",
      "x: -0.00502926, y: 0.187671, z: 0.000448287\n",
      "x: -0.00407097, y: 0.125067, z: -0.00497065\n",
      "x: 0.000956044, y: 0.18386, z: 0.00254077\n",
      "x: 0.00101335, y: -0.338714, z: 0.00795782\n",
      "x: 0.00241985, y: -0.271987, z: 0.00721568\n"
     ]
    }
   ],
   "source": [
    "import time\n",
    "for _ in range(10):\n",
    "    frames = pipeline.wait_for_frames()\n",
    "    pose_frame = frames.get_pose_frame()\n",
    "    pose = pose_frame.get_pose_data()\n",
    "    print(pose.angular_velocity)\n",
    "    time.sleep(1)"
   ]
  },
  {
   "cell_type": "code",
   "execution_count": 4,
   "metadata": {},
   "outputs": [
    {
     "data": {
      "text/plain": [
       "(x: -0.0135755, y: 0.00177098, z: 0.321237,\n",
       " x: 0.709958, y: 0.000801042, z: 0.0116255, w: 0.704148)"
      ]
     },
     "execution_count": 4,
     "metadata": {},
     "output_type": "execute_result"
    }
   ],
   "source": [
    "frames = pipeline.wait_for_frames()\n",
    "pose_frame = frames.get_pose_frame()\n",
    "pose = pose_frame.get_pose_data()\n",
    "pose.translation, pose.rotation"
   ]
  },
  {
   "cell_type": "code",
   "execution_count": 5,
   "metadata": {},
   "outputs": [
    {
     "data": {
      "text/plain": [
       "(x: 0.370863, y: 0.0132695, z: 0.967719,\n",
       " x: 0.662497, y: 0.256232, z: -0.253257, w: 0.656737)"
      ]
     },
     "execution_count": 5,
     "metadata": {},
     "output_type": "execute_result"
    }
   ],
   "source": [
    "frames = pipeline.wait_for_frames()\n",
    "pose_frame = frames.get_pose_frame()\n",
    "pose = pose_frame.get_pose_data()\n",
    "pose.translation, pose.rotation"
   ]
  },
  {
   "cell_type": "code",
   "execution_count": 49,
   "metadata": {},
   "outputs": [
    {
     "data": {
      "text/plain": [
       "array([-178.554,   -0.039,   89.406])"
      ]
     },
     "execution_count": 49,
     "metadata": {},
     "output_type": "execute_result"
    }
   ],
   "source": [
    "q1 = Quaternion(w=pose.rotation.w, x=pose.rotation.x, y=pose.rotation.y, z=pose.rotation.z)\n",
    "np.array(q1.yaw_pitch_roll) * 180 / np.pi\n"
   ]
  },
  {
   "cell_type": "code",
   "execution_count": 37,
   "metadata": {},
   "outputs": [
    {
     "data": {
      "text/plain": [
       "array([-0.247,  0.927, 90.16 ])"
      ]
     },
     "execution_count": 37,
     "metadata": {},
     "output_type": "execute_result"
    }
   ],
   "source": [
    "q1 = Quaternion(w=pose.rotation.w, x=pose.rotation.x, y=pose.rotation.y, z=pose.rotation.z)\n",
    "np.array(q1.yaw_pitch_roll) * 180 / np.pi"
   ]
  },
  {
   "cell_type": "code",
   "execution_count": null,
   "metadata": {},
   "outputs": [],
   "source": []
  }
 ],
 "metadata": {
  "kernelspec": {
   "display_name": "aloha",
   "language": "python",
   "name": "python3"
  },
  "language_info": {
   "codemirror_mode": {
    "name": "ipython",
    "version": 3
   },
   "file_extension": ".py",
   "mimetype": "text/x-python",
   "name": "python",
   "nbconvert_exporter": "python",
   "pygments_lexer": "ipython3",
   "version": "3.8.18"
  }
 },
 "nbformat": 4,
 "nbformat_minor": 2
}
